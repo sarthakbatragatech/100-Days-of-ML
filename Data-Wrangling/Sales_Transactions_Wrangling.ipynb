{
 "cells": [
  {
   "cell_type": "code",
   "execution_count": 1,
   "metadata": {},
   "outputs": [],
   "source": [
    "import numpy as np\n",
    "import pandas as pd\n",
    "import matplotlib.pyplot as plt"
   ]
  },
  {
   "cell_type": "code",
   "execution_count": 8,
   "metadata": {},
   "outputs": [],
   "source": [
    "import warnings\n",
    "warnings.filterwarnings(\"ignore\")"
   ]
  },
  {
   "cell_type": "code",
   "execution_count": 4,
   "metadata": {},
   "outputs": [],
   "source": [
    "transactions    = pd.read_csv('data/sales_train.csv.gz')\n",
    "items           = pd.read_csv('data/items.csv')\n",
    "item_categories = pd.read_csv('data/item_categories.csv')\n",
    "shops           = pd.read_csv('data/shops.csv')"
   ]
  },
  {
   "cell_type": "code",
   "execution_count": 6,
   "metadata": {},
   "outputs": [
    {
     "name": "stdout",
     "output_type": "stream",
     "text": [
      "(2935849, 6) (22170, 3) (84, 2) (60, 2)\n"
     ]
    },
    {
     "data": {
      "text/html": [
       "<div>\n",
       "<style scoped>\n",
       "    .dataframe tbody tr th:only-of-type {\n",
       "        vertical-align: middle;\n",
       "    }\n",
       "\n",
       "    .dataframe tbody tr th {\n",
       "        vertical-align: top;\n",
       "    }\n",
       "\n",
       "    .dataframe thead th {\n",
       "        text-align: right;\n",
       "    }\n",
       "</style>\n",
       "<table border=\"1\" class=\"dataframe\">\n",
       "  <thead>\n",
       "    <tr style=\"text-align: right;\">\n",
       "      <th></th>\n",
       "      <th>date</th>\n",
       "      <th>date_block_num</th>\n",
       "      <th>shop_id</th>\n",
       "      <th>item_id</th>\n",
       "      <th>item_price</th>\n",
       "      <th>item_cnt_day</th>\n",
       "    </tr>\n",
       "  </thead>\n",
       "  <tbody>\n",
       "    <tr>\n",
       "      <th>0</th>\n",
       "      <td>02.01.2013</td>\n",
       "      <td>0</td>\n",
       "      <td>59</td>\n",
       "      <td>22154</td>\n",
       "      <td>999.00</td>\n",
       "      <td>1.0</td>\n",
       "    </tr>\n",
       "    <tr>\n",
       "      <th>1</th>\n",
       "      <td>03.01.2013</td>\n",
       "      <td>0</td>\n",
       "      <td>25</td>\n",
       "      <td>2552</td>\n",
       "      <td>899.00</td>\n",
       "      <td>1.0</td>\n",
       "    </tr>\n",
       "    <tr>\n",
       "      <th>2</th>\n",
       "      <td>05.01.2013</td>\n",
       "      <td>0</td>\n",
       "      <td>25</td>\n",
       "      <td>2552</td>\n",
       "      <td>899.00</td>\n",
       "      <td>-1.0</td>\n",
       "    </tr>\n",
       "    <tr>\n",
       "      <th>3</th>\n",
       "      <td>06.01.2013</td>\n",
       "      <td>0</td>\n",
       "      <td>25</td>\n",
       "      <td>2554</td>\n",
       "      <td>1709.05</td>\n",
       "      <td>1.0</td>\n",
       "    </tr>\n",
       "    <tr>\n",
       "      <th>4</th>\n",
       "      <td>15.01.2013</td>\n",
       "      <td>0</td>\n",
       "      <td>25</td>\n",
       "      <td>2555</td>\n",
       "      <td>1099.00</td>\n",
       "      <td>1.0</td>\n",
       "    </tr>\n",
       "  </tbody>\n",
       "</table>\n",
       "</div>"
      ],
      "text/plain": [
       "         date  date_block_num  shop_id  item_id  item_price  item_cnt_day\n",
       "0  02.01.2013               0       59    22154      999.00           1.0\n",
       "1  03.01.2013               0       25     2552      899.00           1.0\n",
       "2  05.01.2013               0       25     2552      899.00          -1.0\n",
       "3  06.01.2013               0       25     2554     1709.05           1.0\n",
       "4  15.01.2013               0       25     2555     1099.00           1.0"
      ]
     },
     "execution_count": 6,
     "metadata": {},
     "output_type": "execute_result"
    }
   ],
   "source": [
    "print(transactions.shape, items.shape, item_categories.shape, shops.shape)\n",
    "transactions.head()"
   ]
  },
  {
   "cell_type": "markdown",
   "metadata": {},
   "source": [
    "We have around 3 million rows of sales data for over 20000 items and 60 shops! Let's do some useful transformations on this"
   ]
  },
  {
   "cell_type": "markdown",
   "metadata": {},
   "source": [
    "#### Task 1: What was the maximum total revenue among all the shops in September, 2014?"
   ]
  },
  {
   "cell_type": "code",
   "execution_count": 13,
   "metadata": {},
   "outputs": [
    {
     "name": "stdout",
     "output_type": "stream",
     "text": [
      "Max Revenue among all shops in Sep. 2014 was: 7982852.0\n"
     ]
    }
   ],
   "source": [
    "transactions['date'] =  pd.to_datetime(transactions['date'], format='%d.%m.%Y')\n",
    "\n",
    "# Extract the transactions for September 2014\n",
    "filter_df = transactions[(transactions['date'].dt.year==2014) & \n",
    "                         (transactions['date'].dt.month==9)]\n",
    "\n",
    "# Add a column revenue which is the item price multiplied by the daily item count\n",
    "filter_df['revenue'] = filter_df['item_price']*filter_df['item_cnt_day']\n",
    "\n",
    "# Using pandas groupy to get the revenue for each shop.\n",
    "# Taking the sum and getting the maxiumum value for our answer\n",
    "answer = filter_df.groupby('shop_id')['revenue'].sum().max()\n",
    "\n",
    "print('Max Revenue among all shops in Sep. 2014 was:', round(answer))"
   ]
  },
  {
   "cell_type": "markdown",
   "metadata": {},
   "source": [
    "#### Task 2: What item category generated the highest revenue in summer 2014? (June, July, August)"
   ]
  },
  {
   "cell_type": "code",
   "execution_count": 12,
   "metadata": {},
   "outputs": [
    {
     "name": "stdout",
     "output_type": "stream",
     "text": [
      "Item category with the highest revenue in Summer 2014 was: Category 20\n"
     ]
    }
   ],
   "source": [
    "transactions['date'] =  pd.to_datetime(transactions['date'], format='%d.%m.%Y')\n",
    "\n",
    "# Extract the transactions for Summer 2014\n",
    "filter_df = transactions[(transactions['date'].dt.year==2014) & \n",
    "                         ((transactions['date'].dt.month==6) | \n",
    "                          (transactions['date'].dt.month==7) | \n",
    "                          (transactions['date'].dt.month==8))]\n",
    "\n",
    "# Since item categories are present in a different table, use pandas merge\n",
    "filter_df = pd.merge(filter_df, items, on='item_id', how='left')\n",
    "# Add a revenue column like in task 1\n",
    "filter_df['revenue'] = filter_df['item_price']*filter_df['item_cnt_day']\n",
    "\n",
    "# We don't need the maximum value but the item that holds it, we use idxmax\n",
    "answer = filter_df.groupby('item_category_id')['revenue'].sum().idxmax()\n",
    "\n",
    "print('Item category with the highest revenue in Summer 2014 was: Category', round(answer))"
   ]
  },
  {
   "cell_type": "markdown",
   "metadata": {},
   "source": [
    "#### Task 3: How many items are there, such that their price stays constant (to the best of our knowledge) during the whole period of time?\n",
    "\n",
    "Let's assume, that the items are returned for the same price as they had been sold."
   ]
  },
  {
   "cell_type": "code",
   "execution_count": 14,
   "metadata": {},
   "outputs": [
    {
     "name": "stdout",
     "output_type": "stream",
     "text": [
      "Number of items that have a constant price for the duration of the dataset are: 5926\n"
     ]
    }
   ],
   "source": [
    "# Our question involves items and their price, so let's extract these columns\n",
    "filter_df = transactions.loc[:,['item_id', 'item_price']]\n",
    "filter_df = filter_df.groupby('item_id')\n",
    "\n",
    "# Get the number of unique item prices for each item\n",
    "num_prices = filter_df['item_price'].nunique()\n",
    "\n",
    "# Iterate over num_prices and store required indices in list x\n",
    "x = []\n",
    "for index in num_prices.index:\n",
    "    # If only one value for item_price, add it to our list\n",
    "    if num_prices.loc[index] == 1:\n",
    "        x.append(index)\n",
    "\n",
    "# Length of this data structure is the answer we need\n",
    "answer = len(x)\n",
    "\n",
    "print('Number of items that have a constant price for the duration of the dataset are:', answer)"
   ]
  },
  {
   "cell_type": "markdown",
   "metadata": {},
   "source": [
    "#### Task 4: What was the variance of the number of sold items per day sequence for the shop with shop_id = 25 in December, 2014? Do not count the items, that were sold but returned back later."
   ]
  },
  {
   "cell_type": "code",
   "execution_count": 15,
   "metadata": {},
   "outputs": [],
   "source": [
    "shop_id = 25\n",
    "\n",
    "transactions['date'] =  pd.to_datetime(transactions['date'], format='%d.%m.%Y')\n",
    "# Filter the transactions for December 2014 for Shop 25\n",
    "filter_df = transactions[((transactions['date'].dt.year == 2014) \n",
    "                          & (transactions['date'].dt.month == 12)) \n",
    "                         & (transactions['shop_id']==shop_id)]\n",
    "\n",
    "# Select the columns useful for the question.\n",
    "filter_df = filter_df.loc[:, ['date','item_id','item_cnt_day']]"
   ]
  },
  {
   "cell_type": "code",
   "execution_count": 16,
   "metadata": {},
   "outputs": [],
   "source": [
    "# Use groupby to get a count for the number of items sold every day\n",
    "group = filter_df.groupby('date')['item_cnt_day'].sum().rename('items').reset_index()\n",
    "\n",
    "# Store the days present and items sold in separate variables\n",
    "total_num_items_sold = group['items']\n",
    "days = group['date']"
   ]
  },
  {
   "cell_type": "code",
   "execution_count": 23,
   "metadata": {},
   "outputs": [
    {
     "data": {
      "image/png": "[encoded data removed]",
      "text/plain": [
       "<Figure size 1080x576 with 1 Axes>"
      ]
     },
     "metadata": {
      "needs_background": "light"
     },
     "output_type": "display_data"
    },
    {
     "name": "stdout",
     "output_type": "stream",
     "text": [
      "Variance of number of sold items for Shop 25 in December 2014 is: 117167.70229885059\n"
     ]
    }
   ],
   "source": [
    "plt.figure(figsize=(15, 8))\n",
    "\n",
    "# Plotting the sale chart for December 2014 for Shop 25\n",
    "plt.plot(days, total_num_items_sold)\n",
    "plt.ylabel('Num items')\n",
    "plt.xlabel('Day')\n",
    "plt.title(\"Daily revenue for shop_id = 25 in December 2014\")\n",
    "plt.savefig('plots/daily_revenue.png', dpi=300, transparent=False)\n",
    "plt.show()\n",
    "\n",
    "total_num_items_sold_var = group['items'].var(ddof=1)\n",
    "print('Variance of number of sold items for Shop 25 in December 2014 is:', total_num_items_sold_var)"
   ]
  }
 ],
 "metadata": {
  "kernelspec": {
   "display_name": "Python 3",
   "language": "python",
   "name": "python3"
  },
  "language_info": {
   "codemirror_mode": {
    "name": "ipython",
    "version": 3
   },
   "file_extension": ".py",
   "mimetype": "text/x-python",
   "name": "python",
   "nbconvert_exporter": "python",
   "pygments_lexer": "ipython3",
   "version": "3.7.0"
  }
 },
 "nbformat": 4,
 "nbformat_minor": 2
}
